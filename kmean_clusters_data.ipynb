{
 "cells": [
  {
   "cell_type": "code",
   "execution_count": 99,
   "metadata": {},
   "outputs": [],
   "source": [
    "import pandas as pd\n",
    "import numpy as np\n",
    "import matplotlib.pyplot as plt\n",
    "from sklearn.cluster import KMeans"
   ]
  },
  {
   "cell_type": "code",
   "execution_count": 100,
   "metadata": {},
   "outputs": [
    {
     "data": {
      "text/html": [
       "<div>\n",
       "<style scoped>\n",
       "    .dataframe tbody tr th:only-of-type {\n",
       "        vertical-align: middle;\n",
       "    }\n",
       "\n",
       "    .dataframe tbody tr th {\n",
       "        vertical-align: top;\n",
       "    }\n",
       "\n",
       "    .dataframe thead th {\n",
       "        text-align: right;\n",
       "    }\n",
       "</style>\n",
       "<table border=\"1\" class=\"dataframe\">\n",
       "  <thead>\n",
       "    <tr style=\"text-align: right;\">\n",
       "      <th></th>\n",
       "      <th>SAT</th>\n",
       "      <th>GPA</th>\n",
       "    </tr>\n",
       "  </thead>\n",
       "  <tbody>\n",
       "    <tr>\n",
       "      <th>0</th>\n",
       "      <td>1714</td>\n",
       "      <td>2.40</td>\n",
       "    </tr>\n",
       "    <tr>\n",
       "      <th>1</th>\n",
       "      <td>1664</td>\n",
       "      <td>2.52</td>\n",
       "    </tr>\n",
       "    <tr>\n",
       "      <th>2</th>\n",
       "      <td>1760</td>\n",
       "      <td>2.54</td>\n",
       "    </tr>\n",
       "    <tr>\n",
       "      <th>3</th>\n",
       "      <td>1685</td>\n",
       "      <td>2.74</td>\n",
       "    </tr>\n",
       "    <tr>\n",
       "      <th>4</th>\n",
       "      <td>1693</td>\n",
       "      <td>2.83</td>\n",
       "    </tr>\n",
       "    <tr>\n",
       "      <th>...</th>\n",
       "      <td>...</td>\n",
       "      <td>...</td>\n",
       "    </tr>\n",
       "    <tr>\n",
       "      <th>79</th>\n",
       "      <td>1936</td>\n",
       "      <td>3.71</td>\n",
       "    </tr>\n",
       "    <tr>\n",
       "      <th>80</th>\n",
       "      <td>1810</td>\n",
       "      <td>3.71</td>\n",
       "    </tr>\n",
       "    <tr>\n",
       "      <th>81</th>\n",
       "      <td>1987</td>\n",
       "      <td>3.73</td>\n",
       "    </tr>\n",
       "    <tr>\n",
       "      <th>82</th>\n",
       "      <td>1962</td>\n",
       "      <td>3.76</td>\n",
       "    </tr>\n",
       "    <tr>\n",
       "      <th>83</th>\n",
       "      <td>2050</td>\n",
       "      <td>3.81</td>\n",
       "    </tr>\n",
       "  </tbody>\n",
       "</table>\n",
       "<p>84 rows × 2 columns</p>\n",
       "</div>"
      ],
      "text/plain": [
       "     SAT   GPA\n",
       "0   1714  2.40\n",
       "1   1664  2.52\n",
       "2   1760  2.54\n",
       "3   1685  2.74\n",
       "4   1693  2.83\n",
       "..   ...   ...\n",
       "79  1936  3.71\n",
       "80  1810  3.71\n",
       "81  1987  3.73\n",
       "82  1962  3.76\n",
       "83  2050  3.81\n",
       "\n",
       "[84 rows x 2 columns]"
      ]
     },
     "execution_count": 100,
     "metadata": {},
     "output_type": "execute_result"
    }
   ],
   "source": [
    "df = pd.read_csv('data.csv')\n",
    "df"
   ]
  },
  {
   "cell_type": "code",
   "execution_count": 101,
   "metadata": {},
   "outputs": [
    {
     "data": {
      "text/html": [
       "<div>\n",
       "<style scoped>\n",
       "    .dataframe tbody tr th:only-of-type {\n",
       "        vertical-align: middle;\n",
       "    }\n",
       "\n",
       "    .dataframe tbody tr th {\n",
       "        vertical-align: top;\n",
       "    }\n",
       "\n",
       "    .dataframe thead th {\n",
       "        text-align: right;\n",
       "    }\n",
       "</style>\n",
       "<table border=\"1\" class=\"dataframe\">\n",
       "  <thead>\n",
       "    <tr style=\"text-align: right;\">\n",
       "      <th></th>\n",
       "      <th>SAT</th>\n",
       "      <th>GPA</th>\n",
       "    </tr>\n",
       "  </thead>\n",
       "  <tbody>\n",
       "    <tr>\n",
       "      <th>0</th>\n",
       "      <td>1714</td>\n",
       "      <td>2.40</td>\n",
       "    </tr>\n",
       "    <tr>\n",
       "      <th>1</th>\n",
       "      <td>1664</td>\n",
       "      <td>2.52</td>\n",
       "    </tr>\n",
       "    <tr>\n",
       "      <th>2</th>\n",
       "      <td>1760</td>\n",
       "      <td>2.54</td>\n",
       "    </tr>\n",
       "    <tr>\n",
       "      <th>3</th>\n",
       "      <td>1685</td>\n",
       "      <td>2.74</td>\n",
       "    </tr>\n",
       "    <tr>\n",
       "      <th>4</th>\n",
       "      <td>1693</td>\n",
       "      <td>2.83</td>\n",
       "    </tr>\n",
       "  </tbody>\n",
       "</table>\n",
       "</div>"
      ],
      "text/plain": [
       "    SAT   GPA\n",
       "0  1714  2.40\n",
       "1  1664  2.52\n",
       "2  1760  2.54\n",
       "3  1685  2.74\n",
       "4  1693  2.83"
      ]
     },
     "execution_count": 101,
     "metadata": {},
     "output_type": "execute_result"
    }
   ],
   "source": [
    "df.head()"
   ]
  },
  {
   "cell_type": "code",
   "execution_count": 102,
   "metadata": {},
   "outputs": [
    {
     "data": {
      "text/html": [
       "<div>\n",
       "<style scoped>\n",
       "    .dataframe tbody tr th:only-of-type {\n",
       "        vertical-align: middle;\n",
       "    }\n",
       "\n",
       "    .dataframe tbody tr th {\n",
       "        vertical-align: top;\n",
       "    }\n",
       "\n",
       "    .dataframe thead th {\n",
       "        text-align: right;\n",
       "    }\n",
       "</style>\n",
       "<table border=\"1\" class=\"dataframe\">\n",
       "  <thead>\n",
       "    <tr style=\"text-align: right;\">\n",
       "      <th></th>\n",
       "      <th>SAT</th>\n",
       "      <th>GPA</th>\n",
       "    </tr>\n",
       "  </thead>\n",
       "  <tbody>\n",
       "    <tr>\n",
       "      <th>79</th>\n",
       "      <td>1936</td>\n",
       "      <td>3.71</td>\n",
       "    </tr>\n",
       "    <tr>\n",
       "      <th>80</th>\n",
       "      <td>1810</td>\n",
       "      <td>3.71</td>\n",
       "    </tr>\n",
       "    <tr>\n",
       "      <th>81</th>\n",
       "      <td>1987</td>\n",
       "      <td>3.73</td>\n",
       "    </tr>\n",
       "    <tr>\n",
       "      <th>82</th>\n",
       "      <td>1962</td>\n",
       "      <td>3.76</td>\n",
       "    </tr>\n",
       "    <tr>\n",
       "      <th>83</th>\n",
       "      <td>2050</td>\n",
       "      <td>3.81</td>\n",
       "    </tr>\n",
       "  </tbody>\n",
       "</table>\n",
       "</div>"
      ],
      "text/plain": [
       "     SAT   GPA\n",
       "79  1936  3.71\n",
       "80  1810  3.71\n",
       "81  1987  3.73\n",
       "82  1962  3.76\n",
       "83  2050  3.81"
      ]
     },
     "execution_count": 102,
     "metadata": {},
     "output_type": "execute_result"
    }
   ],
   "source": [
    "df.tail()"
   ]
  },
  {
   "cell_type": "code",
   "execution_count": 103,
   "metadata": {},
   "outputs": [],
   "source": [
    "df.dropna(inplace= True)"
   ]
  },
  {
   "cell_type": "code",
   "execution_count": 104,
   "metadata": {},
   "outputs": [],
   "source": [
    "df.drop_duplicates(inplace= True)"
   ]
  },
  {
   "cell_type": "code",
   "execution_count": 105,
   "metadata": {},
   "outputs": [
    {
     "data": {
      "text/plain": [
       "(83, 2)"
      ]
     },
     "execution_count": 105,
     "metadata": {},
     "output_type": "execute_result"
    }
   ],
   "source": [
    "df.shape"
   ]
  },
  {
   "cell_type": "code",
   "execution_count": 106,
   "metadata": {},
   "outputs": [
    {
     "data": {
      "text/plain": [
       "SAT    0\n",
       "GPA    0\n",
       "dtype: int64"
      ]
     },
     "execution_count": 106,
     "metadata": {},
     "output_type": "execute_result"
    }
   ],
   "source": [
    "df.isnull().sum()"
   ]
  },
  {
   "cell_type": "code",
   "execution_count": 107,
   "metadata": {},
   "outputs": [
    {
     "name": "stdout",
     "output_type": "stream",
     "text": [
      "<class 'pandas.core.frame.DataFrame'>\n",
      "Index: 83 entries, 0 to 83\n",
      "Data columns (total 2 columns):\n",
      " #   Column  Non-Null Count  Dtype  \n",
      "---  ------  --------------  -----  \n",
      " 0   SAT     83 non-null     int64  \n",
      " 1   GPA     83 non-null     float64\n",
      "dtypes: float64(1), int64(1)\n",
      "memory usage: 1.9 KB\n"
     ]
    }
   ],
   "source": [
    "df.info()"
   ]
  },
  {
   "cell_type": "code",
   "execution_count": 108,
   "metadata": {},
   "outputs": [
    {
     "data": {
      "text/html": [
       "<div>\n",
       "<style scoped>\n",
       "    .dataframe tbody tr th:only-of-type {\n",
       "        vertical-align: middle;\n",
       "    }\n",
       "\n",
       "    .dataframe tbody tr th {\n",
       "        vertical-align: top;\n",
       "    }\n",
       "\n",
       "    .dataframe thead th {\n",
       "        text-align: right;\n",
       "    }\n",
       "</style>\n",
       "<table border=\"1\" class=\"dataframe\">\n",
       "  <thead>\n",
       "    <tr style=\"text-align: right;\">\n",
       "      <th></th>\n",
       "      <th>SAT</th>\n",
       "      <th>GPA</th>\n",
       "    </tr>\n",
       "  </thead>\n",
       "  <tbody>\n",
       "    <tr>\n",
       "      <th>count</th>\n",
       "      <td>83.000000</td>\n",
       "      <td>83.000000</td>\n",
       "    </tr>\n",
       "    <tr>\n",
       "      <th>mean</th>\n",
       "      <td>1846.253012</td>\n",
       "      <td>3.334217</td>\n",
       "    </tr>\n",
       "    <tr>\n",
       "      <th>std</th>\n",
       "      <td>104.777795</td>\n",
       "      <td>0.270794</td>\n",
       "    </tr>\n",
       "    <tr>\n",
       "      <th>min</th>\n",
       "      <td>1634.000000</td>\n",
       "      <td>2.400000</td>\n",
       "    </tr>\n",
       "    <tr>\n",
       "      <th>25%</th>\n",
       "      <td>1774.000000</td>\n",
       "      <td>3.195000</td>\n",
       "    </tr>\n",
       "    <tr>\n",
       "      <th>50%</th>\n",
       "      <td>1849.000000</td>\n",
       "      <td>3.380000</td>\n",
       "    </tr>\n",
       "    <tr>\n",
       "      <th>75%</th>\n",
       "      <td>1934.000000</td>\n",
       "      <td>3.505000</td>\n",
       "    </tr>\n",
       "    <tr>\n",
       "      <th>max</th>\n",
       "      <td>2050.000000</td>\n",
       "      <td>3.810000</td>\n",
       "    </tr>\n",
       "  </tbody>\n",
       "</table>\n",
       "</div>"
      ],
      "text/plain": [
       "               SAT        GPA\n",
       "count    83.000000  83.000000\n",
       "mean   1846.253012   3.334217\n",
       "std     104.777795   0.270794\n",
       "min    1634.000000   2.400000\n",
       "25%    1774.000000   3.195000\n",
       "50%    1849.000000   3.380000\n",
       "75%    1934.000000   3.505000\n",
       "max    2050.000000   3.810000"
      ]
     },
     "execution_count": 108,
     "metadata": {},
     "output_type": "execute_result"
    }
   ],
   "source": [
    "df.describe()"
   ]
  },
  {
   "cell_type": "code",
   "execution_count": 109,
   "metadata": {},
   "outputs": [
    {
     "data": {
      "image/png": "[encoded data removed]",
      "text/plain": [
       "<Figure size 640x480 with 1 Axes>"
      ]
     },
     "metadata": {},
     "output_type": "display_data"
    }
   ],
   "source": [
    "plt.scatter(df['SAT'], df['GPA'])\n",
    "plt.xlabel('SAT')\n",
    "plt.ylabel('GPA')\n",
    "plt.show()"
   ]
  },
  {
   "cell_type": "code",
   "execution_count": 110,
   "metadata": {},
   "outputs": [
    {
     "data": {
      "text/plain": [
       "[900233.6997710844,\n",
       " 275231.9021749707,\n",
       " 118395.2825185238,\n",
       " 64883.50173744322,\n",
       " 43954.8160968102,\n",
       " 31800.07324909827,\n",
       " 22195.003576237163,\n",
       " 18753.573406260406,\n",
       " 10938.248517128426,\n",
       " 9497.413409206349,\n",
       " 8534.054136282051,\n",
       " 7123.491719145021,\n",
       " 7142.680500772007,\n",
       " 5625.318611428571,\n",
       " 3755.8442987301587,\n",
       " 3402.0413232792207,\n",
       " 2638.1384900793646,\n",
       " 2174.6761714285713,\n",
       " 2084.239559166667,\n",
       " 1835.4381372619048,\n",
       " 1507.3741822222223,\n",
       " 1147.4995914285714,\n",
       " 1113.682875,\n",
       " 949.441,\n",
       " 825.847165,\n",
       " 801.6806095238096,\n",
       " 825.6417880952381,\n",
       " 623.9958047619048,\n",
       " 597.2107714285714,\n",
       " 552.4943964285715,\n",
       " 428.30095833333337,\n",
       " 425.6406833333333,\n",
       " 361.77633333333335,\n",
       " 360.77228333333335,\n",
       " 260.354975,\n",
       " 242.50811333333334,\n",
       " 220.70621333333332,\n",
       " 209.89958666666666,\n",
       " 161.61739999999998,\n",
       " 180.20533666666665,\n",
       " 149.99763333333334,\n",
       " 125.87213833333331,\n",
       " 97.26965833333333,\n",
       " 93.78658333333334,\n",
       " 87.36283666666667,\n",
       " 70.20399166666667,\n",
       " 57.851636666666664,\n",
       " 70.9719,\n",
       " 45.45744166666667,\n",
       " 41.187675000000006,\n",
       " 36.94597,\n",
       " 33.68190833333334,\n",
       " 28.147103333333334,\n",
       " 25.29767,\n",
       " 27.223170000000003,\n",
       " 23.136741666666666,\n",
       " 19.340975,\n",
       " 16.557125,\n",
       " 11.730558333333335,\n",
       " 9.753758333333334,\n",
       " 7.717308333333335,\n",
       " 6.986108333333334,\n",
       " 6.325375000000001,\n",
       " 5.629058333333334,\n",
       " 4.868850000000001,\n",
       " 4.1188166666666675,\n",
       " 3.7680916666666677,\n",
       " 2.873333333333334,\n",
       " 2.5980916666666674,\n",
       " 1.8378833333333335,\n",
       " 1.578391666666667,\n",
       " 1.0743416666666672,\n",
       " 0.3141333333333337,\n",
       " 0.18506666666666693,\n",
       " 0.18961666666666688,\n",
       " 0.060550000000000104,\n",
       " 0.03635000000000007,\n",
       " 0.021900000000000006,\n",
       " 0.01209999999999999,\n",
       " 0.0036500000000000044,\n",
       " 0.0018500000000000012,\n",
       " 4.999999999999787e-05,\n",
       " 0.0]"
      ]
     },
     "execution_count": 110,
     "metadata": {},
     "output_type": "execute_result"
    }
   ],
   "source": [
    "wcss =[]\n",
    "for  i in range(1,84):\n",
    "    kmc = KMeans(n_clusters= i)\n",
    "    kmc.fit_predict(df)\n",
    "    wcss.append(kmc.inertia_)\n",
    "\n",
    "wcss"
   ]
  },
  {
   "cell_type": "code",
   "execution_count": 111,
   "metadata": {},
   "outputs": [
    {
     "data": {
      "text/plain": [
       "[<matplotlib.lines.Line2D at 0x1ef94c64aa0>]"
      ]
     },
     "execution_count": 111,
     "metadata": {},
     "output_type": "execute_result"
    },
    {
     "data": {
      "image/png": "[encoded data removed]",
      "text/plain": [
       "<Figure size 640x480 with 1 Axes>"
      ]
     },
     "metadata": {},
     "output_type": "display_data"
    }
   ],
   "source": [
    "plt.plot(range(1,84), wcss)"
   ]
  },
  {
   "cell_type": "code",
   "execution_count": 112,
   "metadata": {},
   "outputs": [
    {
     "data": {
      "text/plain": [
       "array([1, 4, 5, 4, 4, 4, 5, 6, 0, 1, 5, 1, 1, 5, 0, 5, 4, 0, 6, 5, 1, 4,\n",
       "       4, 9, 8, 6, 8, 2, 6, 5, 3, 5, 0, 7, 0, 8, 9, 6, 8, 0, 0, 9, 1, 9,\n",
       "       3, 8, 9, 0, 9, 6, 0, 7, 4, 7, 7, 1, 9, 6, 7, 9, 8, 7, 2, 7, 8, 0,\n",
       "       3, 0, 3, 3, 6, 9, 3, 2, 2, 2, 2, 0, 3, 8, 9, 9, 2])"
      ]
     },
     "execution_count": 112,
     "metadata": {},
     "output_type": "execute_result"
    }
   ],
   "source": [
    "X = df.iloc[:,:].values\n",
    "kmc = KMeans(n_clusters= 10)\n",
    "y_pred = kmc.fit_predict(X)\n",
    "y_pred\n"
   ]
  },
  {
   "cell_type": "code",
   "execution_count": 113,
   "metadata": {},
   "outputs": [
    {
     "data": {
      "text/plain": [
       "array([[1850.  ,    3.01],\n",
       "       [1872.  ,    3.17],\n",
       "       [1842.  ,    3.17],\n",
       "       [1855.  ,    3.29],\n",
       "       [1849.  ,    3.31],\n",
       "       [1865.  ,    3.37],\n",
       "       [1850.  ,    3.38],\n",
       "       [1857.  ,    3.41],\n",
       "       [1855.  ,    3.42],\n",
       "       [1850.  ,    3.52],\n",
       "       [1861.  ,    3.58],\n",
       "       [1843.  ,    3.71]])"
      ]
     },
     "execution_count": 113,
     "metadata": {},
     "output_type": "execute_result"
    }
   ],
   "source": [
    "# 0 cluster\n",
    "X[y_pred == 0]"
   ]
  },
  {
   "cell_type": "code",
   "execution_count": 114,
   "metadata": {},
   "outputs": [
    {
     "data": {
      "text/plain": [
       "array([3.01, 3.17, 3.17, 3.29, 3.31, 3.37, 3.38, 3.41, 3.42, 3.52, 3.58,\n",
       "       3.71])"
      ]
     },
     "execution_count": 114,
     "metadata": {},
     "output_type": "execute_result"
    }
   ],
   "source": [
    "# 0 cluster 1 row\n",
    "X[y_pred == 0,1]"
   ]
  },
  {
   "cell_type": "code",
   "execution_count": 115,
   "metadata": {},
   "outputs": [
    {
     "data": {
      "text/plain": [
       "array([[1880.  ,    3.29],\n",
       "       [1907.  ,    3.42],\n",
       "       [1879.  ,    3.44],\n",
       "       [1887.  ,    3.47],\n",
       "       [1891.  ,    3.48],\n",
       "       [1893.  ,    3.5 ],\n",
       "       [1893.  ,    3.51]])"
      ]
     },
     "execution_count": 115,
     "metadata": {},
     "output_type": "execute_result"
    }
   ],
   "source": [
    "# 7 cluster\n",
    "X[y_pred == 7]"
   ]
  },
  {
   "cell_type": "code",
   "execution_count": 116,
   "metadata": {},
   "outputs": [
    {
     "data": {
      "text/plain": [
       "array([1880., 1907., 1879., 1887., 1891., 1893., 1893.])"
      ]
     },
     "execution_count": 116,
     "metadata": {},
     "output_type": "execute_result"
    }
   ],
   "source": [
    "# 7 cluster 0 row\n",
    "X[y_pred == 7,0]"
   ]
  },
  {
   "cell_type": "code",
   "execution_count": 117,
   "metadata": {},
   "outputs": [
    {
     "data": {
      "text/plain": [
       "array([[1760.  ,    2.54],\n",
       "       [1764.  ,    3.  ],\n",
       "       [1775.  ,    3.07],\n",
       "       [1773.  ,    3.12],\n",
       "       [1755.  ,    3.17],\n",
       "       [1761.  ,    3.19],\n",
       "       [1769.  ,    3.28],\n",
       "       [1775.  ,    3.29]])"
      ]
     },
     "execution_count": 117,
     "metadata": {},
     "output_type": "execute_result"
    }
   ],
   "source": [
    "# 5 cluster\n",
    "X[y_pred == 5]"
   ]
  },
  {
   "cell_type": "code",
   "execution_count": 118,
   "metadata": {},
   "outputs": [
    {
     "data": {
      "text/plain": [
       "array([2.54, 3.  , 3.07, 3.12, 3.17, 3.19, 3.28, 3.29])"
      ]
     },
     "execution_count": 118,
     "metadata": {},
     "output_type": "execute_result"
    }
   ],
   "source": [
    "# 5 cluster 1 row\n",
    "X[y_pred == 5,1]"
   ]
  },
  {
   "cell_type": "code",
   "execution_count": 119,
   "metadata": {},
   "outputs": [
    {
     "data": {
      "text/plain": [
       "<matplotlib.collections.PathCollection at 0x1ef92795f10>"
      ]
     },
     "execution_count": 119,
     "metadata": {},
     "output_type": "execute_result"
    },
    {
     "data": {
      "image/png": "[encoded data removed]",
      "text/plain": [
       "<Figure size 640x480 with 1 Axes>"
      ]
     },
     "metadata": {},
     "output_type": "display_data"
    }
   ],
   "source": [
    "# plt.contourf(X[y_pred == 0],alpha = 0.7)\n",
    "plt.scatter(X[y_pred == 0,0], X[y_pred == 0,1], color = 'green')\n",
    "plt.scatter(X[y_pred == 1,0], X[y_pred == 1,1], color = 'red')\n",
    "plt.scatter(X[y_pred == 2,0], X[y_pred == 2,1], color = 'yellow')\n",
    "plt.scatter(X[y_pred == 3,0], X[y_pred == 3,1], color = 'pink')\n",
    "plt.scatter(X[y_pred == 4,0], X[y_pred == 4,1], color = 'orange')\n",
    "plt.scatter(X[y_pred == 5,0], X[y_pred == 5,1], color = 'purple')\n",
    "plt.scatter(X[y_pred == 6,0], X[y_pred == 6,1], color = 'blue')\n",
    "plt.scatter(X[y_pred == 7,0], X[y_pred == 7,1], color = 'black')\n",
    "plt.scatter(X[y_pred == 8,0], X[y_pred == 8,1], color = 'brown')\n",
    "plt.scatter(X[y_pred == 9,0], X[y_pred == 9,1], color = 'gray')\n",
    "\n",
    "\n",
    "\n",
    "\n"
   ]
  },
  {
   "cell_type": "code",
   "execution_count": 120,
   "metadata": {},
   "outputs": [
    {
     "data": {
      "text/html": [
       "<div>\n",
       "<style scoped>\n",
       "    .dataframe tbody tr th:only-of-type {\n",
       "        vertical-align: middle;\n",
       "    }\n",
       "\n",
       "    .dataframe tbody tr th {\n",
       "        vertical-align: top;\n",
       "    }\n",
       "\n",
       "    .dataframe thead th {\n",
       "        text-align: right;\n",
       "    }\n",
       "</style>\n",
       "<table border=\"1\" class=\"dataframe\">\n",
       "  <thead>\n",
       "    <tr style=\"text-align: right;\">\n",
       "      <th></th>\n",
       "      <th>SAT</th>\n",
       "      <th>GPA</th>\n",
       "    </tr>\n",
       "  </thead>\n",
       "  <tbody>\n",
       "    <tr>\n",
       "      <th>0</th>\n",
       "      <td>0.192308</td>\n",
       "      <td>2.40</td>\n",
       "    </tr>\n",
       "    <tr>\n",
       "      <th>1</th>\n",
       "      <td>0.072115</td>\n",
       "      <td>2.52</td>\n",
       "    </tr>\n",
       "    <tr>\n",
       "      <th>2</th>\n",
       "      <td>0.302885</td>\n",
       "      <td>2.54</td>\n",
       "    </tr>\n",
       "    <tr>\n",
       "      <th>3</th>\n",
       "      <td>0.122596</td>\n",
       "      <td>2.74</td>\n",
       "    </tr>\n",
       "    <tr>\n",
       "      <th>4</th>\n",
       "      <td>0.141827</td>\n",
       "      <td>2.83</td>\n",
       "    </tr>\n",
       "    <tr>\n",
       "      <th>...</th>\n",
       "      <td>...</td>\n",
       "      <td>...</td>\n",
       "    </tr>\n",
       "    <tr>\n",
       "      <th>79</th>\n",
       "      <td>0.725962</td>\n",
       "      <td>3.71</td>\n",
       "    </tr>\n",
       "    <tr>\n",
       "      <th>80</th>\n",
       "      <td>0.423077</td>\n",
       "      <td>3.71</td>\n",
       "    </tr>\n",
       "    <tr>\n",
       "      <th>81</th>\n",
       "      <td>0.848558</td>\n",
       "      <td>3.73</td>\n",
       "    </tr>\n",
       "    <tr>\n",
       "      <th>82</th>\n",
       "      <td>0.788462</td>\n",
       "      <td>3.76</td>\n",
       "    </tr>\n",
       "    <tr>\n",
       "      <th>83</th>\n",
       "      <td>1.000000</td>\n",
       "      <td>3.81</td>\n",
       "    </tr>\n",
       "  </tbody>\n",
       "</table>\n",
       "<p>83 rows × 2 columns</p>\n",
       "</div>"
      ],
      "text/plain": [
       "         SAT   GPA\n",
       "0   0.192308  2.40\n",
       "1   0.072115  2.52\n",
       "2   0.302885  2.54\n",
       "3   0.122596  2.74\n",
       "4   0.141827  2.83\n",
       "..       ...   ...\n",
       "79  0.725962  3.71\n",
       "80  0.423077  3.71\n",
       "81  0.848558  3.73\n",
       "82  0.788462  3.76\n",
       "83  1.000000  3.81\n",
       "\n",
       "[83 rows x 2 columns]"
      ]
     },
     "execution_count": 120,
     "metadata": {},
     "output_type": "execute_result"
    }
   ],
   "source": [
    "from sklearn.preprocessing import MinMaxScaler\n",
    "min_max = MinMaxScaler()\n",
    "df['SAT'] = min_max.fit_transform(df[['SAT']])\n",
    "df"
   ]
  },
  {
   "cell_type": "code",
   "execution_count": 121,
   "metadata": {},
   "outputs": [
    {
     "data": {
      "text/plain": [
       "array([0, 0, 0, 9, 9, 9, 3, 3, 3, 3, 3, 3, 3, 3, 7, 3, 8, 7, 3, 3, 8, 8,\n",
       "       8, 4, 7, 7, 7, 4, 7, 7, 4, 7, 7, 7, 7, 7, 4, 7, 7, 2, 2, 4, 8, 4,\n",
       "       4, 7, 4, 2, 4, 7, 2, 2, 8, 2, 2, 1, 4, 1, 2, 4, 1, 2, 5, 2, 1, 2,\n",
       "       6, 2, 6, 6, 1, 6, 6, 5, 5, 5, 5, 1, 6, 1, 5, 6, 5])"
      ]
     },
     "execution_count": 121,
     "metadata": {},
     "output_type": "execute_result"
    }
   ],
   "source": [
    "X = df.iloc[:,:].values\n",
    "kmc = KMeans(n_clusters= 10)\n",
    "y_pred = kmc.fit_predict(X)\n",
    "y_pred"
   ]
  },
  {
   "cell_type": "code",
   "execution_count": 122,
   "metadata": {},
   "outputs": [
    {
     "data": {
      "text/plain": [
       "<matplotlib.collections.PathCollection at 0x1ef97c8e150>"
      ]
     },
     "execution_count": 122,
     "metadata": {},
     "output_type": "execute_result"
    },
    {
     "data": {
      "image/png": "[encoded data removed]",
      "text/plain": [
       "<Figure size 640x480 with 1 Axes>"
      ]
     },
     "metadata": {},
     "output_type": "display_data"
    }
   ],
   "source": [
    "plt.scatter(X[y_pred == 0,0], X[y_pred == 0,1], color = 'green')\n",
    "plt.scatter(X[y_pred == 1,0], X[y_pred == 1,1], color = 'red')\n",
    "plt.scatter(X[y_pred == 2,0], X[y_pred == 2,1], color = 'yellow')\n",
    "plt.scatter(X[y_pred == 3,0], X[y_pred == 3,1], color = 'pink')\n",
    "plt.scatter(X[y_pred == 4,0], X[y_pred == 4,1], color = 'orange')\n",
    "plt.scatter(X[y_pred == 5,0], X[y_pred == 5,1], color = 'purple')\n",
    "plt.scatter(X[y_pred == 6,0], X[y_pred == 6,1], color = 'blue')\n",
    "plt.scatter(X[y_pred == 7,0], X[y_pred == 7,1], color = 'black')\n",
    "plt.scatter(X[y_pred == 8,0], X[y_pred == 8,1], color = 'brown')\n",
    "plt.scatter(X[y_pred == 9,0], X[y_pred == 9,1], color = 'gray')\n"
   ]
  }
 ],
 "metadata": {
  "kernelspec": {
   "display_name": "Python 3",
   "language": "python",
   "name": "python3"
  },
  "language_info": {
   "codemirror_mode": {
    "name": "ipython",
    "version": 3
   },
   "file_extension": ".py",
   "mimetype": "text/x-python",
   "name": "python",
   "nbconvert_exporter": "python",
   "pygments_lexer": "ipython3",
   "version": "3.12.1"
  }
 },
 "nbformat": 4,
 "nbformat_minor": 2
}
